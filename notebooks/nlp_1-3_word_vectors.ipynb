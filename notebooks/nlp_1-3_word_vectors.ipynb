{
  "nbformat": 4,
  "nbformat_minor": 0,
  "metadata": {
    "colab": {
      "name": "nlp_1_3_word_vectors.ipynb",
      "provenance": [],
      "collapsed_sections": [],
      "toc_visible": true,
      "machine_shape": "hm"
    },
    "kernelspec": {
      "name": "python3",
      "display_name": "Python 3"
    }
  },
  "cells": [
    {
      "cell_type": "markdown",
      "metadata": {
        "id": "7KjofTD4wZu0"
      },
      "source": [
        "# **Word Vectors**\n",
        "Words can be represented as word vectors and be embedded into a semantic vector\n",
        "space. In this space, we can apply linear operations to find word analogies and calculate word similarities (e.g., based on the cosine similarity of their vectors). Furthermore, word vectors (also called word embeddings) can be used as input for machine learning models, such as linear classifiers or artificial neural networks [[1]](#scrollTo=I8V9kOvBMH6-).\n",
        "\n",
        "This notebook shows examples for the following topics:\n",
        "* One-hot vector\n",
        "* Word2Vec\n",
        "* Visualization of word vectors\n"
      ]
    },
    {
      "cell_type": "markdown",
      "metadata": {
        "id": "dohuQxES4gQf"
      },
      "source": [
        "## **One-hot vector**\n",
        "In order to mathematically process the similarities or relations between word tokens, we should encode each token into some vector that represents a point in some word space. \n",
        "\n",
        "For this purpose, we can use one-hot vector which is a bag-of-words vector for just a single word, i.e., it is 0 at all indexes except at the index of the considered word where it is 1 [[1]](#scrollTo=I8V9kOvBMH6-).\n",
        "\n",
        "\n",
        "In this section, we will demonstrate word vectorization of the following string [[2]](https://github.com/ujhuyz0110/wrd_emb/blob/master/word2vec_skipgram_medium_v1.ipynb):\n",
        "\n",
        "\n",
        "\"*Federer is one of the greatest tennis players of all time.\n",
        "Federer has won twenty grand slam titles to date.*\"\n",
        "<br><br/>\n",
        "Firstly, we will import required libraries and then define 3 functions:\n",
        "1. ``tokenize()``: obtains tokens with at least 1 alphabetic character,\n",
        "2. ``mapping()``: assigns an ID to the tokens which are found by the ``tokenize()``function,\n",
        "3. ``integer_encoding()``: creates ``integer_encoded_text``\n",
        "\n",
        "Finally, we will create a one-hot vector for the given text.\n",
        "\n",
        "\n",
        "\n",
        "\n"
      ]
    },
    {
      "cell_type": "markdown",
      "source": [
        "### Import libraries and define functions"
      ],
      "metadata": {
        "id": "lW2lqjW4_4wv"
      }
    },
    {
      "cell_type": "markdown",
      "source": [
        "#### Import ``NumPy`` and ``re``\n",
        "``NumPy`` arrays are faster and more compact than Python lists. An array consumes less memory [[3]](https://numpy.org/doc/stable/user/absolute_beginners.html)."
      ],
      "metadata": {
        "id": "aHbLSsAIRrt6"
      }
    },
    {
      "cell_type": "code",
      "metadata": {
        "id": "CksC6EmKebIS"
      },
      "source": [
        "# Import NumPy for array operations\n",
        "# Import re for regular expressions\n",
        "\n",
        "import numpy as np\n",
        "import re"
      ],
      "execution_count": null,
      "outputs": []
    },
    {
      "cell_type": "markdown",
      "source": [
        "#### Create ``tokenize()`` function\n",
        "This function obtains tokens with at least one alphabetic character.\n",
        "The function takes an input ``text`` and returns the matching patterns."
      ],
      "metadata": {
        "id": "48lzDX2kR0fg"
      }
    },
    {
      "cell_type": "code",
      "metadata": {
        "id": "DBL4dKF3WHN1"
      },
      "source": [
        "# Create \"tokenize\" function\n",
        "def tokenize(text):\n",
        "    pattern = re.compile(r'[A-Za-z]+[\\w^\\']*|[\\w^\\']*[A-Za-z]+[\\w^\\']*')\n",
        "    return pattern.findall(text.lower())"
      ],
      "execution_count": null,
      "outputs": []
    },
    {
      "cell_type": "markdown",
      "source": [
        "#### Create ``mapping()`` function\n",
        "This function assigns an ID to the tokens which are found by the ``tokenize()`` function.\n",
        "\n",
        "It takes an input ``tokens`` and creates two empty dictionaries as ``word_to_id`` and ``id_to_word``. Then it matches each token with its index number and appends it to the dictionaries. Finally, it returns both of dictionaries.\n"
      ],
      "metadata": {
        "id": "4s3tDVKRR-A5"
      }
    },
    {
      "cell_type": "code",
      "metadata": {
        "id": "j9IzKyxpWIp5"
      },
      "source": [
        "# Create \"mapping\" function\n",
        "def mapping(tokens):\n",
        "    # Create dictionaries\n",
        "    word_to_id = dict()\n",
        "    id_to_word = dict()\n",
        "\n",
        "    # Create a loop which matches each token with its index number and appends it to the dictionaries \n",
        "    for i, token in enumerate(set(tokens)):\n",
        "        word_to_id[token] = i\n",
        "        id_to_word[i] = token\n",
        "        \n",
        "    # Return both dictionaries\n",
        "    return word_to_id, id_to_word"
      ],
      "execution_count": null,
      "outputs": []
    },
    {
      "cell_type": "markdown",
      "source": [
        "#### Create ``integer_encoding()`` function\n",
        "\n",
        "This function takes the following inputs and returns ``integer_encoded_text``:\n",
        "* ``tokens`` is the unique tokens returned by the ``tokenize()`` function.\n",
        "* ``word_to_id`` is the dictionary returned by the ``mapping()`` function.\n",
        "\n"
      ],
      "metadata": {
        "id": "42R199lESEDg"
      }
    },
    {
      "cell_type": "code",
      "source": [
        "# Create \"integer_encoding\" function\n",
        "def integer_encoding(tokens, word_to_id):\n",
        "\n",
        "    # Declare a variable \"N\" and assign the number of unique tokens to it\n",
        "    N = len(tokens)\n",
        "\n",
        "    # Create an empty list \n",
        "    integer_encoded_text = []\n",
        "\n",
        "    # Append the ID of each word into the list \"integer_encoded_text\"\n",
        "    ## It loops over the given string and replaces each word with its ID.\n",
        "    for i in range(N):\n",
        "      integer_encoded_text.append(word_to_id[tokens[i]])\n",
        "\n",
        "    # Convert list to numpy-array        \n",
        "    integer_encoded_text = np.array(integer_encoded_text)\n",
        "    \n",
        "    # Convert array to a single row vector\n",
        "    integer_encoded_text = np.expand_dims(integer_encoded_text, axis=0)\n",
        "    return integer_encoded_text"
      ],
      "metadata": {
        "id": "os3xGEQ80nSI"
      },
      "execution_count": null,
      "outputs": []
    },
    {
      "cell_type": "markdown",
      "source": [
        "### Define text and create one-hot vector"
      ],
      "metadata": {
        "id": "olOt19oqAMzw"
      }
    },
    {
      "cell_type": "markdown",
      "source": [
        "#### Create sample document"
      ],
      "metadata": {
        "id": "DHYGtl1pSI7w"
      }
    },
    {
      "cell_type": "code",
      "metadata": {
        "id": "qbD_KPQJhpZH"
      },
      "source": [
        "# Create sample document\n",
        "doc = \"Federer is one of the greatest tennis players of all time. \\\n",
        "Federer has won twenty grand slam titles to date.\""
      ],
      "execution_count": null,
      "outputs": []
    },
    {
      "cell_type": "markdown",
      "source": [
        "#### Get ``tokens`` from the document and print ``tokens``"
      ],
      "metadata": {
        "id": "CPC8OjwQSSN7"
      }
    },
    {
      "cell_type": "code",
      "metadata": {
        "colab": {
          "base_uri": "https://localhost:8080/"
        },
        "id": "ulDcR9tqjn_d",
        "outputId": "04b41663-b7bd-4d2c-b932-f3684934832e"
      },
      "source": [
        "# Get tokens from the document doc\n",
        "tokens = tokenize(doc)\n",
        "\n",
        "# Print tokens\n",
        "print(tokens)"
      ],
      "execution_count": null,
      "outputs": [
        {
          "output_type": "stream",
          "name": "stdout",
          "text": [
            "['federer', 'is', 'one', 'of', 'the', 'greatest', 'tennis', 'players', 'of', 'all', 'time', 'federer', 'has', 'won', 'twenty', 'grand', 'slam', 'titles', 'to', 'date']\n"
          ]
        }
      ]
    },
    {
      "cell_type": "markdown",
      "source": [
        "#### Map ``tokens`` and print each word with its ID"
      ],
      "metadata": {
        "id": "Wjqn-SUfSyI5"
      }
    },
    {
      "cell_type": "code",
      "metadata": {
        "id": "4FK0rToGjn8A",
        "colab": {
          "base_uri": "https://localhost:8080/"
        },
        "outputId": "66a77ff4-b303-449d-cb01-b8eb61350835"
      },
      "source": [
        "# Map tokens to integer IDs\n",
        "word_to_id, id_to_word = mapping(tokens)\n",
        "\n",
        "# Print each word with its ID\n",
        "for word, id in zip(word_to_id, id_to_word):\n",
        "  print(f'word: {word} \\t id: {id}')"
      ],
      "execution_count": null,
      "outputs": [
        {
          "output_type": "stream",
          "name": "stdout",
          "text": [
            "word: the \t id: 0\n",
            "word: of \t id: 1\n",
            "word: grand \t id: 2\n",
            "word: tennis \t id: 3\n",
            "word: titles \t id: 4\n",
            "word: players \t id: 5\n",
            "word: time \t id: 6\n",
            "word: one \t id: 7\n",
            "word: greatest \t id: 8\n",
            "word: all \t id: 9\n",
            "word: federer \t id: 10\n",
            "word: won \t id: 11\n",
            "word: date \t id: 12\n",
            "word: slam \t id: 13\n",
            "word: to \t id: 14\n",
            "word: is \t id: 15\n",
            "word: has \t id: 16\n",
            "word: twenty \t id: 17\n"
          ]
        }
      ]
    },
    {
      "cell_type": "markdown",
      "source": [
        "#### Convert given text to integers"
      ],
      "metadata": {
        "id": "fODldG9ITDFq"
      }
    },
    {
      "cell_type": "code",
      "source": [
        "# Convert the given text to integer form by using the \"integer_encoding\" function\n",
        "integer_encoded_text = integer_encoding(tokens, word_to_id)\n",
        "\n",
        "# Print the integer encoded text\n",
        "print(integer_encoded_text)"
      ],
      "metadata": {
        "colab": {
          "base_uri": "https://localhost:8080/"
        },
        "id": "CJtT3MA91HI3",
        "outputId": "2c62b293-bf7f-4b3b-9bce-1f8f09de3472"
      },
      "execution_count": null,
      "outputs": [
        {
          "output_type": "stream",
          "name": "stdout",
          "text": [
            "[[10 15  7  1  0  8  3  5  1  9  6 10 16 11 17  2 13  4 14 12]]\n"
          ]
        }
      ]
    },
    {
      "cell_type": "markdown",
      "source": [
        "#### Create and print one-hot vector "
      ],
      "metadata": {
        "id": "B-mLhC3QTKxZ"
      }
    },
    {
      "cell_type": "code",
      "source": [
        "# Define shape of one-hot vector\n",
        "##Rows\n",
        "vocab_size = len(id_to_word)\n",
        "##Columns\n",
        "m = integer_encoded_text.shape[1]\n",
        "\n",
        "# Create one-hot vector\n",
        "one_hot_vector = np.zeros((vocab_size, m))\n",
        "\n",
        "# Turn integer_encoded_text into one-hot vector\n",
        "one_hot_vector[integer_encoded_text.flatten(), np.arange(m)] = 1\n",
        "\n",
        "# Print one-hot vector\n",
        "print(one_hot_vector)"
      ],
      "metadata": {
        "colab": {
          "base_uri": "https://localhost:8080/"
        },
        "id": "FysDiogS1M62",
        "outputId": "1b5a084f-8640-45a3-f5e7-09dabfc06dd7"
      },
      "execution_count": null,
      "outputs": [
        {
          "output_type": "stream",
          "name": "stdout",
          "text": [
            "[[0. 0. 0. 1. 0. 0. 0. 0. 1. 0. 0. 0. 0. 0. 0. 0. 0. 0. 0. 0.]\n",
            " [0. 0. 0. 0. 0. 0. 0. 1. 0. 0. 0. 0. 0. 0. 0. 0. 0. 0. 0. 0.]\n",
            " [0. 0. 0. 0. 0. 0. 1. 0. 0. 0. 0. 0. 0. 0. 0. 0. 0. 0. 0. 0.]\n",
            " [0. 0. 0. 0. 0. 0. 0. 0. 0. 0. 0. 0. 0. 0. 0. 0. 0. 0. 1. 0.]\n",
            " [0. 0. 0. 0. 0. 1. 0. 0. 0. 0. 0. 0. 0. 0. 0. 0. 0. 0. 0. 0.]\n",
            " [0. 0. 1. 0. 0. 0. 0. 0. 0. 0. 0. 0. 0. 0. 0. 0. 0. 0. 0. 0.]\n",
            " [0. 0. 0. 0. 0. 0. 0. 0. 0. 0. 0. 0. 0. 0. 1. 0. 0. 0. 0. 0.]\n",
            " [0. 0. 0. 0. 0. 0. 0. 0. 0. 0. 1. 0. 0. 0. 0. 0. 0. 0. 0. 0.]\n",
            " [1. 0. 0. 0. 0. 0. 0. 0. 0. 0. 0. 1. 0. 0. 0. 0. 0. 0. 0. 0.]\n",
            " [0. 0. 0. 0. 0. 0. 0. 0. 0. 0. 0. 0. 1. 0. 0. 0. 0. 0. 0. 0.]\n",
            " [0. 1. 0. 0. 0. 0. 0. 0. 0. 0. 0. 0. 0. 0. 0. 0. 0. 0. 0. 0.]\n",
            " [0. 0. 0. 0. 0. 0. 0. 0. 0. 0. 0. 0. 0. 0. 0. 1. 0. 0. 0. 0.]\n",
            " [0. 0. 0. 0. 0. 0. 0. 0. 0. 1. 0. 0. 0. 0. 0. 0. 0. 0. 0. 0.]\n",
            " [0. 0. 0. 0. 0. 0. 0. 0. 0. 0. 0. 0. 0. 0. 0. 0. 1. 0. 0. 0.]\n",
            " [0. 0. 0. 0. 0. 0. 0. 0. 0. 0. 0. 0. 0. 0. 0. 0. 0. 1. 0. 0.]\n",
            " [0. 0. 0. 0. 0. 0. 0. 0. 0. 0. 0. 0. 0. 0. 0. 0. 0. 0. 0. 1.]\n",
            " [0. 0. 0. 0. 0. 0. 0. 0. 0. 0. 0. 0. 0. 1. 0. 0. 0. 0. 0. 0.]\n",
            " [0. 0. 0. 0. 1. 0. 0. 0. 0. 0. 0. 0. 0. 0. 0. 0. 0. 0. 0. 0.]]\n"
          ]
        }
      ]
    },
    {
      "cell_type": "markdown",
      "metadata": {
        "id": "nbB5jIvlDX7P"
      },
      "source": [
        "## **Word2Vec** \n",
        "\n",
        "In this section, we will introduce ``Word2Vec``, an embedding technique developed at Google. ``Word2Vec`` uses a simple neural network with only one hidden layer for the\n",
        "generation of word embeddings [[1]](#scrollTo=I8V9kOvBMH6-).\n",
        "\n",
        "If a model has been trained with a big dataset like the ``word2vec-google-news-300``, we can apply word analogies on that model.\n",
        "\n",
        "The similarity between two words can be measured as a numeric distance. In ``gensim``, the function ``most_similar()`` finds the most similar word to a given word based on the cosine similarity between their word vectors. For more details about cosine similarity, please refer to [[4]](https://radimrehurek.com/gensim/models/keyedvectors.html)."
      ]
    },
    {
      "cell_type": "markdown",
      "source": [
        "### Import a pre-trained model by using ``gensim``\n",
        "``gensim`` includes different pre-trained models. You can download a model by importing ``gensim.downloader``.\n",
        "\n",
        "For the following examples, we load ``word2vec-google-news-300`` model."
      ],
      "metadata": {
        "id": "VIb-FaABXDPk"
      }
    },
    {
      "cell_type": "code",
      "metadata": {
        "colab": {
          "base_uri": "https://localhost:8080/"
        },
        "id": "CAOakyvo3Wzm",
        "outputId": "3edd6d0d-995c-4db9-d786-ada81b204051"
      },
      "source": [
        "# Import gensim downloader to load the model\n",
        "import gensim.downloader as api\n",
        "\n",
        "# Import Word2Vec model\n",
        "from gensim.models import Word2Vec\n",
        "\n",
        "# Load word2vec-google-news-300 model\n",
        "word_vectors = api.load(\"word2vec-google-news-300\")"
      ],
      "execution_count": null,
      "outputs": [
        {
          "output_type": "stream",
          "name": "stdout",
          "text": [
            "[==================================================] 100.0% 1662.8/1662.8MB downloaded\n"
          ]
        }
      ]
    },
    {
      "cell_type": "code",
      "source": [
        "# NOTE: This code cell is optional. To run a code, please uncomment it\n",
        "#       The shortcut to comment/uncomment a selected code is CTRL+/       \n",
        "\n",
        "# To see the list of all available gensim datasets, run the following code:\n",
        "# info = api.info()\n",
        "# for each in info['corpora']:\n",
        "#  print(each)\n",
        "\n",
        "# To see the list of all available gensim pre-trained models, run the following code:\n",
        "# for each in info['models']:\n",
        "#  print(each)\n",
        "\n",
        "# To see detailed information about the available gensim pre-trained models, run the following code:\n",
        "# info['models']"
      ],
      "metadata": {
        "id": "b4V835RRK7vw"
      },
      "execution_count": null,
      "outputs": []
    },
    {
      "cell_type": "markdown",
      "source": [
        "### Examples for word analogies"
      ],
      "metadata": {
        "id": "GcA8hQRcxOyu"
      }
    },
    {
      "cell_type": "markdown",
      "source": [
        "#### What's the capital of France?\n",
        "If we know the capital of one country, what's the capital of France? \n"
      ],
      "metadata": {
        "id": "NHXfzxwBXYxS"
      }
    },
    {
      "cell_type": "code",
      "metadata": {
        "colab": {
          "base_uri": "https://localhost:8080/"
        },
        "id": "4YMmi-S94NCR",
        "outputId": "2b92639f-c2d8-4145-f760-01a20fbcbfb9"
      },
      "source": [
        "# Calculate the \"most similar words\" and save them to the list \"result\"\n",
        "## Parameters:  positive (list of str, optional) – List of words that contribute positively\n",
        "##              negative (list of str, optional) – List of words that contribute negatively\n",
        "result = word_vectors.most_similar(positive=['Berlin', 'France'], negative=['Germany'])\n",
        "\n",
        "# result[0] returns the first element of the list\n",
        "## The first element contains the most similar word and its similarity score\n",
        "## We assign this data to the variables \"most_similar_key\" and \"similarity\"\n",
        "most_similar_key, similarity = result[0]\n",
        "\n",
        "# Print the most similar word and its similarity score\n",
        "print(f\"{most_similar_key}: {similarity:.4f}\")\n",
        "\n",
        "# Create a loop to print the first 10 results\n",
        "print('\\n------first 10 results---------------')\n",
        "for i in range(0,9):\n",
        "  most_similar_key, similarity = result[i]\n",
        "  print(f\"{most_similar_key}: {similarity:.4f}\")\n"
      ],
      "execution_count": null,
      "outputs": [
        {
          "output_type": "stream",
          "name": "stdout",
          "text": [
            "Paris: 0.7672\n",
            "\n",
            "------first 10 results---------------\n",
            "Paris: 0.7672\n",
            "French: 0.6049\n",
            "Parisian: 0.5810\n",
            "Colombes: 0.5600\n",
            "Hopital_Europeen_Georges_Pompidou: 0.5559\n",
            "Melun: 0.5513\n",
            "Dinard: 0.5452\n",
            "Brussels: 0.5421\n",
            "Mairie_de: 0.5337\n"
          ]
        }
      ]
    },
    {
      "cell_type": "markdown",
      "source": [
        "#### What do French people drink?\n",
        "When Germans drink beer, what do French people drink?"
      ],
      "metadata": {
        "id": "smxQ2Si0XvKq"
      }
    },
    {
      "cell_type": "code",
      "metadata": {
        "colab": {
          "base_uri": "https://localhost:8080/"
        },
        "id": "Fusa3DuWC5Lz",
        "outputId": "5b93d523-f5e5-4ff7-add1-871a7f9000c3"
      },
      "source": [
        "# Calculate the \"most similar words\" and save them to the list \"result\"\n",
        "## Parameters:  positive (list of str, optional) – List of words that contribute positively\n",
        "##              negative (list of str, optional) – List of words that contribute negatively\n",
        "result = word_vectors.most_similar(positive=['Beer', 'France'], negative=['Germany'])\n",
        "\n",
        "# result[0] returns the first element of the list\n",
        "## The first element contains the most similar word and its similarity score\n",
        "## We assign this data to the variables \"most_similar_key\" and \"similarity\"\n",
        "most_similar_key, similarity = result[0]\n",
        "\n",
        "# Print the most similar word and its similarity score\n",
        "print(f\"{most_similar_key}: {similarity:.4f}\")\n"
      ],
      "execution_count": null,
      "outputs": [
        {
          "output_type": "stream",
          "name": "stdout",
          "text": [
            "Wine: 0.5270\n"
          ]
        }
      ]
    },
    {
      "cell_type": "markdown",
      "source": [
        "#### Similarity between \"tallest\" and \"tall\"\n",
        "The similarity between \"tallest\" and \"tall\" is like the similarity between \"long\" and \"..?..\""
      ],
      "metadata": {
        "id": "zCUH8zSKX5Op"
      }
    },
    {
      "cell_type": "code",
      "metadata": {
        "colab": {
          "base_uri": "https://localhost:8080/"
        },
        "id": "Z-_2OI82DQAs",
        "outputId": "bf4278ad-7c64-4b3d-c2e0-b5ec2b23afd6"
      },
      "source": [
        "# Calculate the \"most similar words\" and save them to the list \"result\"\n",
        "## Parameters:  positive (list of str, optional) – List of words that contribute positively\n",
        "##              negative (list of str, optional) – List of words that contribute negatively\n",
        "result = word_vectors.most_similar(positive=['long', 'tallest'], negative=['tall'])\n",
        "\n",
        "# result[0] returns the first element of the list\n",
        "## The first element contains the most similar word and its similarity score\n",
        "## We assign this data to the variables \"most_similar_key\" and \"similarity\"\n",
        "most_similar_key, similarity = result[0]\n",
        "\n",
        "# Print the most similar word and its similarity score\n",
        "print(f\"{most_similar_key}: {similarity:.4f}\")\n"
      ],
      "execution_count": null,
      "outputs": [
        {
          "output_type": "stream",
          "name": "stdout",
          "text": [
            "longest: 0.5581\n"
          ]
        }
      ]
    },
    {
      "cell_type": "markdown",
      "metadata": {
        "id": "nzHvmeofc5HE"
      },
      "source": [
        "## **Visualizing word vectors**  \n",
        "\n",
        "With the help of the principal component analysis (PCA), high-dimensional vectors can be projected to a lower dimension. In this section, we will use ``Word2Vec`` to project word embeddings which represent terms of food items or beverages into a two-dimensional scatterplot [[1]](#scrollTo=I8V9kOvBMH6-)."
      ]
    },
    {
      "cell_type": "markdown",
      "source": [
        "We will apply the following steps [[5]](https://web.stanford.edu/class/cs224n/materials/Gensim%20word%20vector%20visualization.html):\n",
        "\n",
        "1. Import ``pyplot`` and ``numpy`` libraries.\n",
        "2. Define a list ``ingredients`` that contains the food items.\n",
        "3. Define a function ``display_pca_scatterplot()``.\n",
        "4. Visualize the food items on a 2D PCA scatterplot.\n",
        "\n"
      ],
      "metadata": {
        "id": "FwK3z_3sOHlb"
      }
    },
    {
      "cell_type": "markdown",
      "source": [
        "### Import Pyplot, NumPy and PCA libraries"
      ],
      "metadata": {
        "id": "-OofJEn3UvXL"
      }
    },
    {
      "cell_type": "code",
      "metadata": {
        "id": "u2tw7ob2tWng"
      },
      "source": [
        "# Import Pyplot and NumPy libraries\n",
        "import matplotlib.pyplot as plt\n",
        "import numpy as np\n",
        "\n",
        "# Import PCA class from sklearn library for visualizing principal components analysis\n",
        "from sklearn.decomposition import PCA \n",
        "\n",
        "# Set a default style for the plot. The style \"bmh\" stands for \"Bayesian Methods for Hackers\" stylesheet\n",
        "plt.style.use('bmh')"
      ],
      "execution_count": null,
      "outputs": []
    },
    {
      "cell_type": "markdown",
      "source": [
        "### Define a list ``ingredients``"
      ],
      "metadata": {
        "id": "6ugGveQhU0Si"
      }
    },
    {
      "cell_type": "code",
      "source": [
        "# Define a list that contains food items\n",
        "ingredients = [\n",
        "               'bread', 'butter', 'burger', 'cheese','coffee', 'coke',\n",
        "               'espresso','honey', 'jam','juice','liquor','milk', 'pizza',\n",
        "               'sandwich', 'tea', 'toast','wine'\n",
        "               ]"
      ],
      "metadata": {
        "id": "PYyKIgbit_Ra"
      },
      "execution_count": null,
      "outputs": []
    },
    {
      "cell_type": "markdown",
      "source": [
        "### Define ``display_pca_scatterplot()`` function\n",
        "\n",
        "This function takes two inputs: ``model`` and ``words``:\n",
        "* ``model``: Pre-trained model with word vectors (``word2vec-google-news-300``) which was imported in the section `Word2Vec`.\n",
        "* ``words``: Sample words which are represented as vectors in the model. We have defined the list ``ingredients`` for this input.\n",
        "\n",
        "The input ``words``is  stored in a numpy-array ``word_vectors``.\n",
        "Then, ``word_vectors`` is transformed into a two-dimensional matrix by using scikit-learn module ``PCA``.\n",
        "Finally, the matrix is projected on a two-dimensional scatterplot by using pyplot."
      ],
      "metadata": {
        "id": "9tcAeUApVTHR"
      }
    },
    {
      "cell_type": "code",
      "metadata": {
        "id": "TQPyLonIttW9"
      },
      "source": [
        "# Define \"display_pca_scatterplot()\" function\n",
        "def display_pca_scatterplot(model, words):\n",
        "\n",
        "    # Get word vectors for input words from the word2vec model\n",
        "    word_vectors = np.array([model[w] for w in words])\n",
        "    \n",
        "    # Transfrom the word vectors into a two-dimensional matrix\n",
        "    twodim = PCA(n_components=2).fit_transform(word_vectors)[:,:2]    \n",
        "\n",
        "    # Create scatterplot\n",
        "    plt.figure(figsize=(6,6))\n",
        "    plt.scatter(twodim[:,0], twodim[:,1], edgecolors='k', c='r')\n",
        "    plt.plot([-2, 2], [2, -2], ls=\"-\", c=\"c\")\n",
        "    \n",
        "    # Add names at upper right corner to the drawn points\n",
        "    for word, (x,y) in zip(words, twodim):\n",
        "      plt.text(x+0.05, y+0.05, word)\n"
      ],
      "execution_count": null,
      "outputs": []
    },
    {
      "cell_type": "markdown",
      "source": [
        "### Visualize the food items on a 2D PCA scatterplot"
      ],
      "metadata": {
        "id": "zv04JIW_Vd9c"
      }
    },
    {
      "cell_type": "code",
      "metadata": {
        "colab": {
          "base_uri": "https://localhost:8080/",
          "height": 371
        },
        "id": "G6b7xLMRtvUO",
        "outputId": "30791794-0215-4aaf-999c-5fce75270db6"
      },
      "source": [
        "# Run the function \"display_pca_scatterplot()\" and visualize the food items on a 2D PCA scatterplot\n",
        "display_pca_scatterplot(word_vectors, ingredients)"
      ],
      "execution_count": null,
      "outputs": [
        {
          "output_type": "display_data",
          "data": {
            "text/plain": [
              "<Figure size 432x432 with 1 Axes>"
            ],
            "image/png": "[encoded data removed]"
          },
          "metadata": {
            "needs_background": "light"
          }
        }
      ]
    },
    {
      "cell_type": "markdown",
      "source": [
        "# **References**\n",
        "\n",
        "- [1] Course Book \"NLP and Computer Vision\" (DLMAINLPCV01)\n",
        "- [2] https://github.com/ujhuyz0110/wrd_emb/blob/master/word2vec_skipgram_medium_v1.ipynb\n",
        "- [3] https://numpy.org/doc/stable/user/absolute_beginners.html\n",
        "- [4] https://radimrehurek.com/gensim/models/keyedvectors.html\n",
        "- [5] https://web.stanford.edu/class/cs224n/materials/Gensim%20word%20vector%20visualization.html\n"
      ],
      "metadata": {
        "id": "I8V9kOvBMH6-"
      }
    },
    {
      "source": [
        "Copyright © 2022 IU International University of Applied Sciences"
      ],
      "cell_type": "markdown",
      "metadata": {
        "id": "o0e7O48e5534"
      }
    }
  ]
}
