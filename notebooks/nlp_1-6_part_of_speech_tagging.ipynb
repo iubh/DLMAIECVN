{
  "nbformat": 4,
  "nbformat_minor": 0,
  "metadata": {
    "kernelspec": {
      "display_name": "Python 3",
      "language": "python",
      "name": "python3"
    },
    "language_info": {
      "codemirror_mode": {
        "name": "ipython",
        "version": 3
      },
      "file_extension": ".py",
      "mimetype": "text/x-python",
      "name": "python",
      "nbconvert_exporter": "python",
      "pygments_lexer": "ipython3",
      "version": "3.8.2"
    },
    "nbTranslate": {
      "displayLangs": [
        "*"
      ],
      "hotkey": "alt-t",
      "langInMainMenu": true,
      "sourceLang": "en",
      "targetLang": "fr",
      "useGoogleTranslate": true
    },
    "colab": {
      "name": "nlp_1-6_part_of_speech_tagging.ipynb",
      "provenance": [],
      "collapsed_sections": [],
      "toc_visible": true
    }
  },
  "cells": [
    {
      "cell_type": "markdown",
      "metadata": {
        "id": "Q_X42HQ1pF84"
      },
      "source": [
        "# **Part-of-speech tagging**"
      ]
    },
    {
      "cell_type": "markdown",
      "source": [
        "Part-of-speech (POS) tagging is used to solve syntactic ambiguity. It adds grammatical word functions and categories to a\n",
        "given text [[1]](#scrollTo=op-j6UywUt5i). \n",
        "\n",
        "In the sentence “Our dogs bark all day,” the word \"bark\" appears as a verb. But in the sentence “The bark of the\n",
        "old oak tree was wet,” the word \"bark\" is a noun. This example illustrates that context plays an important role in\n",
        "POS tagging [[1]](#scrollTo=op-j6UywUt5i).\n",
        "\n",
        "\n",
        "This notebook shows some basic examples of POS tagging with ``spaCy``.\n"
      ],
      "metadata": {
        "id": "p07VlvadPlrX"
      }
    },
    {
      "cell_type": "markdown",
      "metadata": {
        "id": "qyo5PWLBpF9s"
      },
      "source": [
        "## **Part-of-speech tagging with ``spaCy``**\n",
        "\n",
        "``spaCy`` is a free, open-source library for advanced natural language processing (NLP) in Python. It can be used to build information extraction or natural language understanding systems, or to pre-process text for deep learning [[2]](https://spacy.io/usage/spacy-101). For example, it supports the implementation of tasks for sentiment analysis, chatbots, text summarization, intent and entity extraction, and others [[1]](#scrollTo=op-j6UywUt5i). For more information about ``spaCy``, please refer to  [[3]](https://spacy.io/).\n",
        "\n",
        "For POS tagging, we will apply the following steps:\n",
        "1. Import the ``spaCy`` library\n",
        "2. Load the language model\n",
        "3. Create a ``Doc`` object and perform POS tagging\n",
        "4. Print the POS tags\n",
        "\n"
      ]
    },
    {
      "cell_type": "markdown",
      "source": [
        "### Import the ``spaCy`` library"
      ],
      "metadata": {
        "id": "O5kowC_hc37V"
      }
    },
    {
      "cell_type": "code",
      "metadata": {
        "id": "5rVtW6JEpF9f"
      },
      "source": [
        "# Import the spaCy library\n",
        "import spacy"
      ],
      "execution_count": null,
      "outputs": []
    },
    {
      "cell_type": "markdown",
      "source": [
        "### Load language model\n",
        "We will load the ``en_core_web_sm`` English language model by using the ``spaCy`` library.\n",
        "For more details about ``en_core_web_sm``, please refer to [[4]](https://spacy.io/models)."
      ],
      "metadata": {
        "id": "U3fJpxa0VzzT"
      }
    },
    {
      "cell_type": "code",
      "source": [
        "# Load \"en_core_web_sm\" English language model\n",
        "sp = spacy.load('en_core_web_sm')"
      ],
      "metadata": {
        "id": "eIrsC9DdV08P"
      },
      "execution_count": null,
      "outputs": []
    },
    {
      "cell_type": "markdown",
      "source": [
        "### Create a ``Doc`` object and perform POS tagging\n",
        "\n",
        "When we create a ``Doc`` object by using the ``spaCy`` library, it automatically produces POS tags (tagger) for the input text. The following figure demonstrates the processing pipeline of a given text to produce a ``Doc`` object [[5]](https://spacy.io/usage/processing-pipelines).\n",
        "\n",
        "![spaCy](https://spacy.io/pipeline-fde48da9b43661abcdf62ab70a546d71.svg)"
      ],
      "metadata": {
        "id": "IQRDu2pac7Yc"
      }
    },
    {
      "cell_type": "code",
      "metadata": {
        "id": "tZw2sdxSpF9v"
      },
      "source": [
        "# Create a Doc object \"doc\"\n",
        "doc = sp(u\"I am going to complete this book by this weekend\")"
      ],
      "execution_count": null,
      "outputs": []
    },
    {
      "cell_type": "markdown",
      "source": [
        "### Print POS tags\n",
        "\n",
        "For POS tagging, we will use the``pos_`` attribute of the ``Morphologizer`` class in ``spaCy``.\n",
        "\n",
        "``spaCy`` predicts the morphological features of a given text.\n",
        "These predictions are returned by using the ``pos_`` attribute. For more details, please refer to [[6]](https://spacy.io/api/morphologizer#section-assigned-attributes)."
      ],
      "metadata": {
        "id": "pK8A81Vcf_wL"
      }
    },
    {
      "cell_type": "code",
      "metadata": {
        "colab": {
          "base_uri": "https://localhost:8080/"
        },
        "id": "WsXwhtZepF9x",
        "outputId": "9dbe7a8d-afe0-4e8e-9096-4e7d2dbc7f00"
      },
      "source": [
        "# Use the \"pos_\" attribute to print each word token with its related POS tag\n",
        "for word in doc:\n",
        "    print(word.text + '-->' + word.pos_)"
      ],
      "execution_count": null,
      "outputs": [
        {
          "output_type": "stream",
          "name": "stdout",
          "text": [
            "I-->PRON\n",
            "am-->AUX\n",
            "going-->VERB\n",
            "to-->PART\n",
            "complete-->VERB\n",
            "this-->DET\n",
            "book-->NOUN\n",
            "by-->ADP\n",
            "this-->DET\n",
            "weekend-->NOUN\n"
          ]
        }
      ]
    },
    {
      "cell_type": "markdown",
      "source": [
        "### Print POS tags and explanations\n",
        "\n",
        "The ``spacy.explain()`` function returns a description for a given POS tag [[7]](https://spacy.io/api/top-level).\n",
        "\n",
        "To improve readability, we can define columns. The numbers in curly brackets indicate the space between the  columns [[8]](https://stackabuse.com/python-for-nlp-parts-of-speech-tagging-and-named-entity-recognition/).\n",
        "\n"
      ],
      "metadata": {
        "id": "6ZAVILFWhYCX"
      }
    },
    {
      "cell_type": "code",
      "source": [
        "# Print each word with its related POS tag and explanation\n",
        "for word in doc:\n",
        "    print(f'{word.text:{12}} {word.pos_:{10}} {spacy.explain(word.tag_)}')"
      ],
      "metadata": {
        "colab": {
          "base_uri": "https://localhost:8080/"
        },
        "id": "glnP0a4Ag98q",
        "outputId": "f7e3d5f3-860a-42e5-e12d-fd31396c0b03"
      },
      "execution_count": null,
      "outputs": [
        {
          "output_type": "stream",
          "name": "stdout",
          "text": [
            "I            PRON       pronoun, personal\n",
            "am           AUX        verb, non-3rd person singular present\n",
            "going        VERB       verb, gerund or present participle\n",
            "to           PART       infinitival \"to\"\n",
            "complete     VERB       verb, base form\n",
            "this         DET        determiner\n",
            "book         NOUN       noun, singular or mass\n",
            "by           ADP        conjunction, subordinating or preposition\n",
            "this         DET        determiner\n",
            "weekend      NOUN       noun, singular or mass\n"
          ]
        }
      ]
    },
    {
      "cell_type": "markdown",
      "source": [
        "# **References**\n",
        "\n",
        "- [1] Course Book \"NLP and Computer Vision\" (DLMAINLPCV01)\n",
        "- [2] https://spacy.io/usage/spacy-101\n",
        "- [3] https://spacy.io\n",
        "- [4] https://spacy.io/models\n",
        "- [5] https://spacy.io/usage/processing-pipelines\n",
        "- [6] https://spacy.io/api/morphologizer#section-assigned-attributes\n",
        "- [7] https://spacy.io/api/top-level\n",
        "- [8] https://stackabuse.com/python-for-nlp-parts-of-speech-tagging-and-named-entity-recognition\n"
      ],
      "metadata": {
        "id": "op-j6UywUt5i"
      }
    },
    {
      "cell_type": "markdown",
      "metadata": {
        "id": "7kDAQDmXpF91"
      },
      "source": [
        "Copyright © 2022 IU International University of Applied Sciences"
      ]
    }
  ]
}
