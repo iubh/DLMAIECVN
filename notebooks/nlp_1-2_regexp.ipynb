{
  "nbformat": 4,
  "nbformat_minor": 0,
  "metadata": {
    "kernelspec": {
      "display_name": "Python 3",
      "language": "python",
      "name": "python3"
    },
    "language_info": {
      "codemirror_mode": {
        "name": "ipython",
        "version": 3
      },
      "file_extension": ".py",
      "mimetype": "text/x-python",
      "name": "python",
      "nbconvert_exporter": "python",
      "pygments_lexer": "ipython3",
      "version": "3.8.2"
    },
    "nbTranslate": {
      "displayLangs": [
        "*"
      ],
      "hotkey": "alt-t",
      "langInMainMenu": true,
      "sourceLang": "en",
      "targetLang": "fr",
      "useGoogleTranslate": true
    },
    "colab": {
      "name": "nlp_1p2_regexp.ipynb",
      "provenance": [],
      "collapsed_sections": [],
      "toc_visible": true
    }
  },
  "cells": [
    {
      "cell_type": "markdown",
      "metadata": {
        "id": "i8EfESNNankA"
      },
      "source": [
        "# **Regular Expressions**\n",
        "\n",
        "Regular expressions (also called “RegEx”) are a powerful tool and a standardized language to search for patterns in strings. They are available in almost any programming language (e.g., in Python, Perl, JavaScript, Awk) and can also be used in shell scripts and at the UNIX command line. Many editors (e.g., Vim, Emacs, and Sed) support regular expressions for search-and-replace operations. In rule-based NLP, regular expressions can be used to extract data from text. Especially well-defined patterns such as dates, times, and prices can easily be found and extracted from text using regular expressions [[1]](#scrollTo=Al4v1MD0ZhJq).\n",
        "\n",
        "This notebook shows examples for the following topics:\n",
        "- Compiling regular expressions\n",
        "- Anchors\n",
        "- Quantifiers\n",
        "- Disjunctions\n",
        "- Character classes\n",
        "- Finding regular expressions in files\n",
        "\n",
        "For more information about the regular expression syntax, please refer to  [[2](https://docs.python.org/3/library/re.html)] and [[3](https://docs.python.org/3/howto/regex.html#regex-howto)] ."
      ]
    },
    {
      "cell_type": "markdown",
      "source": [
        "## **Compiling regular expressions**\n",
        "\n",
        "To work with regular expressions, we should import the ``re`` module. It provides a set of powerful regular expression facilities, which allows us to quickly check whether a given string matches a given pattern or contains such a pattern.\n",
        "\n",
        "Regular expressions in Python are compiled into pattern objects by running the ``re.compile()`` function. Once a pattern object is created, you can run with it various functions such as:\n",
        "- ``match()``:$\\qquad$ Determines if the regular expression matches at the **beginning** of the string.<br>\n",
        "- ``search()``:$\\qquad$ Scans a string, looks for any location where this regular expression matches and returns the **first match**.<br>\n",
        "- ``findall()``:$\\qquad$ Finds **all** substrings where the regular expression matches and returns them as a list.<br>\n",
        "\n",
        "In this notebook, two different compiling methods are demonstrated:\n",
        "1. Define a regular expression and compile it into a pattern object ``reg``. After that, run a function with this pattern object.\n",
        "2. Define a regular expression inside the function by using the ``re`` module.  \n",
        "\n",
        "Below, you can see an example for each function:\n"
      ],
      "metadata": {
        "id": "o1f9kcLDYmD9"
      }
    },
    {
      "cell_type": "markdown",
      "source": [
        "### match()\n",
        "``match()`` determines if the regular expression matches at the **beginning** of the string and returns an object which contains the match."
      ],
      "metadata": {
        "id": "yVhr8PV35HjH"
      }
    },
    {
      "cell_type": "code",
      "source": [
        "# import the 're' module\n",
        "import re\n",
        "\n",
        "# Method-1\n",
        "## Define regular expression and compile it into a pattern object \"reg\"\n",
        "reg = re.compile('banana')\n",
        "\n",
        "## Run match() function with the pattern object \"reg\"\n",
        "p1 = reg.match('''We visited a banana farm in our island. \n",
        "                  A farmer told us that the retailers determined \n",
        "                  to keep banana prices low''')\n",
        "\n",
        "\n",
        "# Method-2\n",
        "## Define regular expression inside the match() function.\n",
        "## Python automatically compiles the regular expression and runs the function.\n",
        "p2 = re.match('banana', '''We visited a banana farm in our island. \n",
        "                  A farmer told us that the retailers determined \n",
        "                  to keep banana prices low''')\n",
        "\n",
        "# Print\n",
        "## Print the object returned by the match() function.\n",
        "## If there is a match, the match only can be printed with: print(p1.group())\n",
        "print(p1)\n",
        "print(p2)"
      ],
      "metadata": {
        "id": "gYqNiCmD5St-",
        "colab": {
          "base_uri": "https://localhost:8080/"
        },
        "outputId": "f40007fe-bf83-40ff-c787-a15c8066fe4d"
      },
      "execution_count": 4,
      "outputs": [
        {
          "output_type": "stream",
          "name": "stdout",
          "text": [
            "None\n",
            "None\n"
          ]
        }
      ]
    },
    {
      "cell_type": "markdown",
      "source": [
        "###search()\n",
        "``search()`` finds any location where the regular expression matches and returns an object which contains the **first match**."
      ],
      "metadata": {
        "id": "N5qqTdAH5M1f"
      }
    },
    {
      "cell_type": "code",
      "source": [
        "# import the 're' module\n",
        "import re\n",
        "\n",
        "# Method-1\n",
        "## Define regular expression and compile it into a pattern object \"reg\"\n",
        "reg = re.compile('banana')\n",
        "\n",
        "## Run search() function with the pattern object \"reg\"\n",
        "## match() determines if the regular expression matches at the **beginning** of the string.\n",
        "p1 = reg.search('''We visited a banana farm in our island. \n",
        "                  A farmer told us that the retailers determined \n",
        "                  to keep banana prices low''')\n",
        "\n",
        "\n",
        "# Method-2\n",
        "## Define regular expression inside the search() function.\n",
        "## Python automatically compiles the regular expression and runs the function.\n",
        "p2 = re.search('banana', '''We visited a banana farm in our island. \n",
        "                  A farmer told us that the retailers determined \n",
        "                  to keep banana prices low''')\n",
        "\n",
        "# Print\n",
        "## Print the object returned by the search() function.\n",
        "## If there is a match, the match only can be printed with: print(p1.group())\n",
        "print(p1)\n",
        "print(p2)"
      ],
      "metadata": {
        "colab": {
          "base_uri": "https://localhost:8080/"
        },
        "id": "nLQj2m4S5TRO",
        "outputId": "af059907-318d-43d1-96f9-40e8263a18c9"
      },
      "execution_count": 5,
      "outputs": [
        {
          "output_type": "stream",
          "name": "stdout",
          "text": [
            "<re.Match object; span=(13, 19), match='banana'>\n",
            "banana\n",
            "<re.Match object; span=(13, 19), match='banana'>\n"
          ]
        }
      ]
    },
    {
      "cell_type": "markdown",
      "source": [
        "### findall()\n",
        "``findall()`` finds **all** substrings where the regular expression matches and returns them as a list."
      ],
      "metadata": {
        "id": "5UJ6mefW5QI0"
      }
    },
    {
      "cell_type": "code",
      "source": [
        "# import the 're' module\n",
        "import re\n",
        "\n",
        "# Method-1\n",
        "## Define regular expression and compile it into a pattern object \"reg\"\n",
        "reg = re.compile('banana')\n",
        "\n",
        "## Run findall() function with the pattern object \"reg\"\n",
        "p1 = reg.findall('''We visited a banana farm in our island. \n",
        "                  A farmer told us that the retailers determined \n",
        "                  to keep banana prices low''')\n",
        "\n",
        "\n",
        "# Method-2\n",
        "## Define regular expression inside the findall() function.\n",
        "## Python automatically compiles the regular expression and runs the function.\n",
        "p2 = re.findall('banana', '''We visited a banana farm in our island. \n",
        "                  A farmer told us that the retailers determined \n",
        "                  to keep banana prices low''')\n",
        "\n",
        "# Print\n",
        "## Print the list returned by the findall() function.\n",
        "print(p1)\n",
        "print(p2)"
      ],
      "metadata": {
        "id": "BPi2UxQY5TzE",
        "colab": {
          "base_uri": "https://localhost:8080/"
        },
        "outputId": "0b7ae0af-1589-4461-fdda-b76a980d6978"
      },
      "execution_count": null,
      "outputs": [
        {
          "output_type": "stream",
          "name": "stdout",
          "text": [
            "['banana', 'banana']\n",
            "['banana', 'banana']\n"
          ]
        }
      ]
    },
    {
      "cell_type": "markdown",
      "metadata": {
        "id": "t8E9--jiankb"
      },
      "source": [
        "## **Anchors**\n",
        "\n",
        "Anchors do not match any character. Instead, they match a position before, after, or between characters.\n",
        "\n",
        "\n",
        "For more information about anchors, please refer to [[4](https://www.regular-expressions.info/anchors.html)]."
      ]
    },
    {
      "cell_type": "markdown",
      "source": [
        "\n",
        "### <b>\" ^ \" </b>\n",
        "\n",
        "The anchor <b>\" ^ \" </b> matches the position before the first character in the string.\n",
        "\n",
        "The following example shows how to find a string which begins with the word \"banana\":"
      ],
      "metadata": {
        "id": "2Pi53F6f7A5e"
      }
    },
    {
      "cell_type": "code",
      "metadata": {
        "colab": {
          "base_uri": "https://localhost:8080/"
        },
        "id": "CoZ1BlC7ankc",
        "outputId": "ea51b33e-61f8-4837-a4b0-aad5168c3dcc"
      },
      "source": [
        "# Import the 're' module\n",
        "import re\n",
        "\n",
        "# Compile the regular expression\n",
        "reg = re.compile('^banana')\n",
        "\n",
        "# Define strings for the search function\n",
        "p1 = reg.search(\"are bananas cheap?\")\n",
        "p2 = reg.search(\"bananas are cheap.\")\n",
        "\n",
        "# Show results:\n",
        "if p1:\n",
        "    # Print the result\n",
        "    print(\"The string 'p1' begins with '\" + p1.group()+\"'\")\n",
        "\n",
        "else:\n",
        "    print(\"The string 'p1' does not begin with 'banana'.\")\n",
        "\n",
        "if p2:\n",
        "    # Print the string which matches the regular expression\n",
        "    print(\"The string 'p2' begins with '\" + p2.group()+\"'.\")\n",
        "    \n",
        "else:\n",
        "    print(\"The string 'p2' does not begin with 'banana'\")\n"
      ],
      "execution_count": 6,
      "outputs": [
        {
          "output_type": "stream",
          "name": "stdout",
          "text": [
            "The string 'p1' does not begin with 'banana'.\n",
            "The string 'p2' begins with 'banana'.\n"
          ]
        }
      ]
    },
    {
      "cell_type": "markdown",
      "source": [
        "###<b>\" $ \" </b>\n",
        "\n",
        "The anchor <b>\" $ \" </b> matches the position right after the last character in the string.\n",
        "\n",
        "The following example shows how to find a string which ends with the word \"banana\":"
      ],
      "metadata": {
        "id": "hSXYxCv-_Gk5"
      }
    },
    {
      "cell_type": "code",
      "metadata": {
        "colab": {
          "base_uri": "https://localhost:8080/"
        },
        "id": "3O0t2i5dankg",
        "outputId": "1c0fafe2-7dcd-4fde-eceb-0fe121e38776"
      },
      "source": [
        "# Import the 're' module\n",
        "import re\n",
        "\n",
        "# Compile the regular expression\n",
        "reg = re.compile('banana$')\n",
        "\n",
        "# Define strings for the search function\n",
        "p1 = reg.search(\"I have a banana\")\n",
        "p2 = reg.search(\"I have a banana and an apple\")\n",
        "\n",
        "# Show results:\n",
        "if p1:\n",
        "    # Print the result\n",
        "    print(\"The string 'p1' ends with '\" + p1.group()+\"'\")\n",
        "\n",
        "else:\n",
        "    print(\"The string 'p1' does not end with 'banana'.\")\n",
        "\n",
        "if p2:\n",
        "    # Print the string which matches the regular expression\n",
        "    print(\"The string 'p2' ends with '\" + p2.group()+\"'.\")\n",
        "    \n",
        "else:\n",
        "    print(\"The string 'p2' does not end with 'banana'\")\n",
        "\n"
      ],
      "execution_count": 7,
      "outputs": [
        {
          "output_type": "stream",
          "name": "stdout",
          "text": [
            "The string 'p1' ends with 'banana'\n",
            "The string 'p2' does not end with 'banana'\n"
          ]
        }
      ]
    },
    {
      "cell_type": "markdown",
      "source": [
        "###<b>\" $ \"</b> and <b>\" ^ \"</b>\n",
        "The following example shows how to find the string “banana” in only 1 line:"
      ],
      "metadata": {
        "id": "po21AOfLA-Ug"
      }
    },
    {
      "cell_type": "code",
      "metadata": {
        "colab": {
          "base_uri": "https://localhost:8080/"
        },
        "id": "4EDrbIwnoTsZ",
        "outputId": "9433080e-a465-4379-ca59-c0fa08dca649"
      },
      "source": [
        "# Import the 're' module\n",
        "import re\n",
        "\n",
        "# Compile the regular expression\n",
        "reg = re.compile('^banana$')\n",
        "\n",
        "# Define strings for the search function\n",
        "p1=reg.search('bananas are cheap')\n",
        "p2=reg.search('I have a banana')\n",
        "p3=reg.search('I have a banana and an apple')\n",
        "p4=reg.search('banana')\n",
        "\n",
        "# Print the results\n",
        "print(p1)\n",
        "print(p2)\n",
        "print(p3)\n",
        "print(p4.group())"
      ],
      "execution_count": null,
      "outputs": [
        {
          "output_type": "stream",
          "name": "stdout",
          "text": [
            "None\n",
            "None\n",
            "None\n",
            "banana\n"
          ]
        }
      ]
    },
    {
      "cell_type": "markdown",
      "metadata": {
        "id": "Rf4tEmyuankj"
      },
      "source": [
        "## **Quantifiers**\n",
        "Quantifiers specify how many instances of a character, group, or character class must be present in the input for a match to be found [[5](https://docs.microsoft.com/en-us/dotnet/standard/base-types/quantifiers-in-regular-expressions)].\n"
      ]
    },
    {
      "cell_type": "markdown",
      "source": [
        "\n",
        "###<b>\" ? \"</b>\n",
        "\n",
        "The quantifier <b>\" ? \"</b> matches 1 or 0 characters in front of the <b>\" ? \"</b>.\n",
        "\n",
        "The following example shows how to find an exact match for the strings “banana” and \"bnana\":"
      ],
      "metadata": {
        "id": "S3hKy8ko_FSn"
      }
    },
    {
      "cell_type": "code",
      "metadata": {
        "colab": {
          "base_uri": "https://localhost:8080/"
        },
        "id": "fa6CZQn8hWE_",
        "outputId": "5aa7ef01-4446-4812-cf0a-3d4fa10c5cff"
      },
      "source": [
        "# Import the 're' module\n",
        "import re\n",
        "\n",
        "# Compile the regular expression\n",
        "reg = re.compile('ba?nana')\n",
        "\n",
        "# Define strings for the search function and print the matching patterns for each string\n",
        "print(reg.search('banana').group())\n",
        "print(reg.search('bnana').group())\n",
        "print(reg.search('baaaaanana'))"
      ],
      "execution_count": null,
      "outputs": [
        {
          "output_type": "stream",
          "name": "stdout",
          "text": [
            "banana\n",
            "bnana\n",
            "None\n"
          ]
        }
      ]
    },
    {
      "cell_type": "markdown",
      "source": [
        "###<b>\" + \"</b>\n",
        "\n",
        "The quantifier <b>\" + \"</b> matches 1 or more characters in front of the <b>\" + \"</b>. If there is any choice, the first matching string in a line is used.\n",
        "\n",
        "\n",
        "The following example shows how to find a match for the string “banana” and other variations where the first apperance of the character 'a' repeats more than once:"
      ],
      "metadata": {
        "id": "erqZkm_MCKFO"
      }
    },
    {
      "cell_type": "code",
      "metadata": {
        "colab": {
          "base_uri": "https://localhost:8080/"
        },
        "id": "U3W7HfpZhWBk",
        "outputId": "981ccda3-3f7f-45cc-b38a-dbb46e34c8e5"
      },
      "source": [
        "# Import the 're' module\n",
        "import re\n",
        "\n",
        "# Compile the regular expression\n",
        "reg = re.compile('ba+nana')\n",
        "\n",
        "# Define strings for the search function and print the matching patterns for each string\n",
        "print(reg.search('banana').group())\n",
        "print(reg.search('bnana'))\n",
        "print(reg.search('baaaaanana').group())"
      ],
      "execution_count": null,
      "outputs": [
        {
          "output_type": "stream",
          "name": "stdout",
          "text": [
            "banana\n",
            "None\n",
            "baaaaanana\n"
          ]
        }
      ]
    },
    {
      "cell_type": "markdown",
      "source": [
        "###<b>\" * \"</b>\n",
        "\n",
        "The quantifier <b>\" * \"</b> matches 0 or more characters in front of the <b>\" * \"</b>. If any matching string is found, the first matching string in a line is used. \n",
        "\n",
        "\n",
        "The following example shows how to find a match for the string “banana” and other variations where the first character does not exist or repeats at least once:"
      ],
      "metadata": {
        "id": "pSPwkIPpEB6b"
      }
    },
    {
      "cell_type": "code",
      "metadata": {
        "colab": {
          "base_uri": "https://localhost:8080/"
        },
        "id": "eKenVK1vhV_S",
        "outputId": "1b91634d-7103-4ca5-8c16-2cdea58910a4"
      },
      "source": [
        "# import the 're' module\n",
        "import re\n",
        "\n",
        "# Compile the regular expression\n",
        "reg = re.compile('ba*nana')\n",
        "\n",
        "# Define strings for the search function and print the matching patterns for each string\n",
        "print(reg.search('banana').group())\n",
        "print(reg.search('bnana').group())\n",
        "print(reg.search('baaaaanana').group())"
      ],
      "execution_count": null,
      "outputs": [
        {
          "output_type": "stream",
          "name": "stdout",
          "text": [
            "banana\n",
            "bnana\n",
            "baaaaanana\n"
          ]
        }
      ]
    },
    {
      "cell_type": "markdown",
      "source": [
        "###<b>\" { } \"</b>\n",
        "\n",
        "The quantifier <b>\" { } \"</b> is used as range quantifier. The number of repetitions can be written between <b>\" { } \"</b>.\n",
        "\n",
        "\n",
        "The following example shows how to find a match for the string “banana” where the character 'a' repeats at least 2 times and at maximum 7 times:"
      ],
      "metadata": {
        "id": "G6FiVRnJF2kh"
      }
    },
    {
      "cell_type": "code",
      "metadata": {
        "colab": {
          "base_uri": "https://localhost:8080/"
        },
        "id": "iZIT8o30hV9A",
        "outputId": "952a9a3d-9903-4553-bae5-fc18a24ae628"
      },
      "source": [
        "# import the 're' module\n",
        "import re\n",
        "\n",
        "# Compile the regular expression\n",
        "## a{2,7} means that the character 'a' must repeat at least 2 times and at maximum 7 times in the string to match the pattern.\n",
        "reg = re.compile('a{2,7}')\n",
        "\n",
        "# Define strings for the search function and print the matching patterns for each string\n",
        "print(reg.search('banana'))\n",
        "print(reg.search('bnana'))\n",
        "print(reg.search('baaaaanana').group())"
      ],
      "execution_count": null,
      "outputs": [
        {
          "output_type": "stream",
          "name": "stdout",
          "text": [
            "None\n",
            "None\n",
            "aaaaa\n"
          ]
        }
      ]
    },
    {
      "cell_type": "markdown",
      "metadata": {
        "id": "HoCP2GKqankn"
      },
      "source": [
        "## **Disjunctions**\n",
        "\n",
        "Disjunctions represent a logical OR and can be expressed by using <b>\" [ ] \"</b> or <b>\" | \"</b>.\n",
        "\n"
      ]
    },
    {
      "cell_type": "markdown",
      "source": [
        "###<b>\" [ ] \"</b>\n",
        "The disjunction <b>\" [ ] \"</b> is used to match one character of a set of characters.\n",
        "\n",
        "The following example shows how to find an exact match for the strings “banana”, \"bonana\" and \"bunana\":"
      ],
      "metadata": {
        "id": "7IRxwPQALzeb"
      }
    },
    {
      "cell_type": "code",
      "metadata": {
        "colab": {
          "base_uri": "https://localhost:8080/"
        },
        "id": "Lw1j1CYyiDXD",
        "outputId": "9c52fb5e-9149-4978-a012-297517482a36"
      },
      "source": [
        "# import the 're' module\n",
        "import re\n",
        "\n",
        "# Compile the regular expression\n",
        "## The regular expression 'b[aou]nana' matches strings which have either 'a', 'o' or 'u' as 2nd character.\n",
        "reg = re.compile('b[aou]nana')\n",
        "\n",
        "# Define strings for the search function and print the matching patterns for each string\n",
        "print(reg.search('banana').group())\n",
        "print(reg.search('bonana').group())\n",
        "print(reg.search('bunana').group())\n",
        "print(reg.search('binana'))"
      ],
      "execution_count": 9,
      "outputs": [
        {
          "output_type": "stream",
          "name": "stdout",
          "text": [
            "banana\n",
            "bonana\n",
            "bunana\n",
            "None\n"
          ]
        }
      ]
    },
    {
      "cell_type": "markdown",
      "source": [
        "###<b>\" | \"</b>\n",
        "\n",
        "The disjunction <b>\" | \"</b> is used as an OR operator.\n",
        "\n",
        "The following example shows how to find an exact match for the strings “banana”, \"bonana\" and \"bunana\":"
      ],
      "metadata": {
        "id": "YgwgRlXsxNN3"
      }
    },
    {
      "cell_type": "code",
      "metadata": {
        "colab": {
          "base_uri": "https://localhost:8080/"
        },
        "id": "MhEND9CliDTj",
        "outputId": "aa90d834-a15d-4b5b-8d16-0104b66d308b"
      },
      "source": [
        "# import the 're' module\n",
        "import re\n",
        "\n",
        "# Compile the regular expression\n",
        "## The regular expression 'b(a|o|u)nana' matches strings which have either 'a', 'o' or 'u' as 2nd character.\n",
        "reg = re.compile('b(a|o|u)nana')\n",
        "\n",
        "## Alternatively, you can run the following code which returns the same result:\n",
        "##reg = re.compile('banana|bonana|bunana')\n",
        "\n",
        "# Define strings for the search function and print the matching patterns for each string\n",
        "print(reg.search('banana').group())\n",
        "print(reg.search('bonana').group())\n",
        "print(reg.search('bunana').group())\n",
        "print(reg.search('binana'))"
      ],
      "execution_count": null,
      "outputs": [
        {
          "output_type": "stream",
          "name": "stdout",
          "text": [
            "banana\n",
            "bonana\n",
            "bunana\n",
            "None\n"
          ]
        }
      ]
    },
    {
      "cell_type": "markdown",
      "metadata": {
        "id": "v8__BV-uankq"
      },
      "source": [
        "## **Character classes**\n",
        "\n",
        "Character classes represent certain groups of characters:\n",
        "\n",
        "<ul>\n",
        "\n",
        "<li><b>\" \\d \"</b> or <b>\" [0-9] \"</b> matches digits.</li>\n",
        "<ul>\n",
        "<li>The pattern \" [0-9] \" matches any single-digit number.</li>\n",
        "<li>The pattern \" [^ 0-9] \" matches any single digit character that is not a digit.</li>\n",
        "<li>NOTE: In the \"Anchors\" section, it is shown that  \" ^ \" works as an anchor when it is used outside \" [ ] \".\n",
        "But if it is inside \" [ ] \", it works as a complement operator, i.e. matches any character other than the ones mentioned inside \" [ ] \".</li>\n",
        "</ul>\n",
        "\n",
        "<li><b>\" \\w \"</b> or <b>\" [0-9A-Za-z_] \"</b> matches alphanumeric characters and underscores.</li>\n",
        "<li><b>\" \\s \"</b> matches white space characters.</li>\n",
        "<li><b>\" . \"</b> matches any character.</li>\n",
        "\n",
        "</ul>\n"
      ]
    },
    {
      "cell_type": "markdown",
      "source": [
        "### Find an alphanumerical pattern\n",
        "\n",
        "The following example shows how to find a string which contains the characters \"a\", \"b\" or \"c\" at the beginning and the numbers \"1\",\"2\" or \"3\" at the end:"
      ],
      "metadata": {
        "id": "wQEr0S8B5bT1"
      }
    },
    {
      "cell_type": "code",
      "source": [
        "# import the 're' module\n",
        "import re\n",
        "\n",
        "# Compile the regular expression.\n",
        "## The regular expression '[abc]+[123]' matches strings where the pattern contains the characters \"a\", \"b\" or \"c\" at the beginning \n",
        "## and the numbers \"1\",\"2\" or \"3\" at the end.\n",
        "reg = re.compile('[abc]+[123]')\n",
        "\n",
        "# Define strings for the search function and print the matching patterns for each string\n",
        "print(reg.search('a1').group())\n",
        "print(reg.search('45'))\n",
        "print(reg.search('ab23').group())\n",
        "print(reg.search('44ee'))\n"
      ],
      "metadata": {
        "colab": {
          "base_uri": "https://localhost:8080/"
        },
        "id": "xRULs-2i5nB4",
        "outputId": "81f4200d-3cdc-4114-caa1-a54c4d829afe"
      },
      "execution_count": 13,
      "outputs": [
        {
          "output_type": "stream",
          "name": "stdout",
          "text": [
            "a1\n",
            "None\n",
            "ab2\n",
            "None\n"
          ]
        }
      ]
    },
    {
      "cell_type": "markdown",
      "source": [
        "### Find a specific string\n",
        "The following example shows how to find a string which contains only two words where the first word is \"Hello\":"
      ],
      "metadata": {
        "id": "I0W1wiUf8eE7"
      }
    },
    {
      "cell_type": "code",
      "metadata": {
        "colab": {
          "base_uri": "https://localhost:8080/"
        },
        "id": "lvuE_qzeankq",
        "outputId": "4d7ec34f-d356-4869-84ce-bc52e177edd8"
      },
      "source": [
        "# import the 're' module\n",
        "import re\n",
        "\n",
        "# This regular expression matches strings which start with 'Hello' and end with 1 following word.\n",
        "reg = re.compile('^Hello \\w+$')\n",
        "\n",
        "# Define strings for the search function and print the matching patterns for each string\n",
        "print(reg.search('Hello world').group())\n",
        "print(reg.search('Hello everyone').group())\n",
        "print(reg.search('Hello new world'))"
      ],
      "execution_count": null,
      "outputs": [
        {
          "output_type": "stream",
          "name": "stdout",
          "text": [
            "Hello world\n",
            "Hello everyone\n",
            "None\n"
          ]
        }
      ]
    },
    {
      "cell_type": "markdown",
      "source": [
        "The following example shows how to find any string where the first word is \"Hello\":"
      ],
      "metadata": {
        "id": "JG0QrMYt-i9C"
      }
    },
    {
      "cell_type": "code",
      "metadata": {
        "colab": {
          "base_uri": "https://localhost:8080/"
        },
        "id": "6Ea1hOpuCTnk",
        "outputId": "1517f819-6583-4d3c-a380-4d3f478626ec"
      },
      "source": [
        "# import the 're' module\n",
        "import re\n",
        "\n",
        "# The expression would match strings which start with 'Hello'\n",
        "reg = re.compile('^Hello.+$')\n",
        "\n",
        "\n",
        "# Define strings for the search function and print the matching patterns for each string\n",
        "print(reg.search('Hello world').group())\n",
        "print(reg.search('Hello everyone').group())\n",
        "print(reg.search('Hello new world').group())\n",
        "print(reg.search('Say Hello new world'))"
      ],
      "execution_count": 14,
      "outputs": [
        {
          "output_type": "stream",
          "name": "stdout",
          "text": [
            "Hello world\n",
            "Hello everyone\n",
            "Hello new world\n",
            "None\n"
          ]
        }
      ]
    },
    {
      "cell_type": "markdown",
      "source": [
        "### Find white spaces\n",
        "The following example shows how to find all white spaces in the given string:\n"
      ],
      "metadata": {
        "id": "tAk2hTZTB53_"
      }
    },
    {
      "cell_type": "code",
      "source": [
        "# import the 're' module\n",
        "import re\n",
        "\n",
        "# Define strings for the search function and print the white spaces for each string\n",
        "result = re.findall(r'[\\s]', 'The Indian Express')\n",
        "\n",
        "print(result)"
      ],
      "metadata": {
        "colab": {
          "base_uri": "https://localhost:8080/"
        },
        "id": "WyshVOLvCEcf",
        "outputId": "d1a3672b-53cc-4826-93b8-9c84560618fe"
      },
      "execution_count": null,
      "outputs": [
        {
          "output_type": "stream",
          "name": "stdout",
          "text": [
            "[' ', ' ']\n"
          ]
        }
      ]
    },
    {
      "cell_type": "markdown",
      "metadata": {
        "id": "j5RqQDag2ksH"
      },
      "source": [
        "## **Find regular expressions in files**\n",
        "\n",
        "Text editors such as Vim and Emacs can be used to find and optionally replace text by using regular expressions. At the command line or in shell scripts, these operations can also be performed, for example, with ``sed`` or ``grep`` [[1]](#scrollTo=Al4v1MD0ZhJq).\n",
        "\n",
        "``sed`` is a stream editor for manipulating text from files or input streams. \n",
        "\n",
        "``grep`` is used to read a stream, file or list of files, and print the lines containing a match for the pattern. It allows us to search plain text files for specific lines using regular expressions."
      ]
    },
    {
      "cell_type": "markdown",
      "source": [
        "\n",
        "#### Create a sample text file\n",
        "The following example defines a text which contains two lines of string. Then it creates the file \"regText.txt\" and saves the defined text:\n"
      ],
      "metadata": {
        "id": "brBcM4P_Nexs"
      }
    },
    {
      "cell_type": "code",
      "metadata": {
        "id": "a5MPCO_T0zRJ"
      },
      "source": [
        "# Create a sample text\n",
        "# \\n defines a newline\n",
        "text =\"This is a sample text which contains several characters.\\nFor example, I bought cheap bananas today.\"\n",
        "\n",
        "# Write content and save the file\n",
        "with open(\"/content/regText.txt\", 'w') as file:\n",
        "  file.write(text)"
      ],
      "execution_count": 21,
      "outputs": []
    },
    {
      "cell_type": "markdown",
      "source": [
        "#### Find a word inside the sample file\n",
        "The following example runs a search within the \"regText.txt\" file. Then it finds and returns the line which contains the word \"text\":\n"
      ],
      "metadata": {
        "id": "g_pK1UBHOcnT"
      }
    },
    {
      "cell_type": "code",
      "metadata": {
        "colab": {
          "base_uri": "https://localhost:8080/"
        },
        "id": "Ugkw9ErK3kcX",
        "outputId": "e6fc51e6-4f39-42ee-8075-58b1aff8e850"
      },
      "source": [
        "# Find the epression 'text' in the file\n",
        "!grep text '/content/regText.txt'"
      ],
      "execution_count": 22,
      "outputs": [
        {
          "output_type": "stream",
          "name": "stdout",
          "text": [
            "This is a sample text which contains several characters.\n"
          ]
        }
      ]
    },
    {
      "cell_type": "markdown",
      "source": [
        "#### Replace two words\n",
        "The following example runs a search within the \"regText.txt\" file. Then it finds the word \"banana\" and replaces it with the word \"test\":"
      ],
      "metadata": {
        "id": "gfItr--kPNsj"
      }
    },
    {
      "cell_type": "code",
      "metadata": {
        "colab": {
          "base_uri": "https://localhost:8080/"
        },
        "id": "vFLlcKWC8Q5u",
        "outputId": "4bd87187-9da8-4aa5-bded-7d1d5ae962f8"
      },
      "source": [
        "# Replace the word \"banana\" with \"test\"\n",
        "!sed -e 's/banana/test/' regText.txt"
      ],
      "execution_count": 23,
      "outputs": [
        {
          "output_type": "stream",
          "name": "stdout",
          "text": [
            "This is a sample text which contains several characters.\n",
            "For example, I bought cheap tests today."
          ]
        }
      ]
    },
    {
      "cell_type": "markdown",
      "source": [
        "# **References**\n",
        "\n",
        "- [1] NLP and Computer Vision_DLMAINLPCV01 Course Book\n",
        "- [2] https://docs.python.org/3/library/re.html\n",
        "- [3] https://docs.python.org/3/howto/regex.html#regex-howto\n",
        "- [4] https://www.regular-expressions.info/anchors.html\n",
        "- [5] https://docs.microsoft.com/en-us/dotnet/standard/base-types/quantifiers-in-regular-expressions\n"
      ],
      "metadata": {
        "id": "Al4v1MD0ZhJq"
      }
    },
    {
      "cell_type": "markdown",
      "metadata": {
        "id": "7ZPgsZNYanks"
      },
      "source": [
        "Copyright © 2022 IU International University of Applied Sciences"
      ]
    }
  ]
}
